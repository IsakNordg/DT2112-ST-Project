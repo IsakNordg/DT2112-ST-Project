{
 "cells": [
  {
   "cell_type": "code",
   "execution_count": 10,
   "metadata": {},
   "outputs": [],
   "source": [
    "import sqlite3 as sl\n",
    "from sklearn.neighbors import KernelDensity\n",
    "import numpy as np"
   ]
  },
  {
   "cell_type": "code",
   "execution_count": 11,
   "metadata": {},
   "outputs": [
    {
     "name": "stdout",
     "output_type": "stream",
     "text": [
      "[('users',), ('activeSessions',), ('messages',), ('psychologists',), ('psychologistSessions',), ('userConversations',), ('clicks',), ('playbacks',)]\n"
     ]
    }
   ],
   "source": [
    "dbfile = './web-application/database.db'\n",
    "# Create a SQL connection to our SQLite database\n",
    "con = sl.connect(dbfile)\n",
    "\n",
    "# creating cursor\n",
    "cur = con.cursor()\n",
    "# reading all table names\n",
    "table_list = [a for a in cur.execute(\"SELECT name FROM sqlite_master WHERE type = 'table'\")]\n",
    "# here is you table list\n",
    "print(table_list)\n",
    "\n",
    "# Be sure to close the connection\n",
    "# con.close()"
   ]
  },
  {
   "cell_type": "code",
   "execution_count": 12,
   "metadata": {},
   "outputs": [
    {
     "name": "stdout",
     "output_type": "stream",
     "text": [
      "['2024-02-26T11:06:21.562Z', '2024-02-26T12:10:30.829Z', '2024-02-26T12:10:55.688Z', '2024-02-26T12:10:56.827Z', '2024-02-26T12:12:41.265Z', '2024-02-26T12:12:43.925Z', '2024-02-26T12:12:49.207Z', '2024-02-26T12:12:51.135Z', '2024-02-26T12:13:39.792Z']\n"
     ]
    }
   ],
   "source": [
    "clicks = [a[1] for a in cur.execute(\"SELECT * FROM clicks\")]\n",
    "print(clicks)"
   ]
  },
  {
   "cell_type": "code",
   "execution_count": 13,
   "metadata": {},
   "outputs": [],
   "source": [
    "con.close()"
   ]
  }
 ],
 "metadata": {
  "kernelspec": {
   "display_name": ".venv",
   "language": "python",
   "name": "python3"
  },
  "language_info": {
   "codemirror_mode": {
    "name": "ipython",
    "version": 3
   },
   "file_extension": ".py",
   "mimetype": "text/x-python",
   "name": "python",
   "nbconvert_exporter": "python",
   "pygments_lexer": "ipython3",
   "version": "3.11.2"
  }
 },
 "nbformat": 4,
 "nbformat_minor": 2
}
