{
 "cells": [
  {
   "cell_type": "code",
   "execution_count": 23,
   "metadata": {},
   "outputs": [],
   "source": [
    "import sqlite3 as sl\n",
    "from sklearn.neighbors import KernelDensity\n",
    "import numpy as np\n",
    "from datetime import datetime\n"
   ]
  },
  {
   "cell_type": "code",
   "execution_count": 18,
   "metadata": {},
   "outputs": [
    {
     "name": "stdout",
     "output_type": "stream",
     "text": [
      "[('users',), ('activeSessions',), ('messages',), ('psychologists',), ('psychologistSessions',), ('userConversations',), ('clicks',), ('playbacks',)]\n"
     ]
    }
   ],
   "source": [
    "dbfile = './web-application/database.db'\n",
    "# Create a SQL connection to our SQLite database\n",
    "con = sl.connect(dbfile)\n",
    "\n",
    "# creating cursor\n",
    "cur = con.cursor()\n",
    "# reading all table names\n",
    "table_list = [a for a in cur.execute(\"SELECT name FROM sqlite_master WHERE type = 'table'\")]\n",
    "# here is you table list\n",
    "print(table_list)\n",
    "\n",
    "# Be sure to close the connection\n",
    "# con.close()"
   ]
  },
  {
   "cell_type": "code",
   "execution_count": 25,
   "metadata": {},
   "outputs": [
    {
     "name": "stdout",
     "output_type": "stream",
     "text": [
      "['b21c36e9-0997-4c3e-8dea-0ca2a83e75c2', 'a48c3dc0-bdc1-454e-aad5-bfbe6974e0b8', 'a48c3dc0-bdc1-454e-aad5-bfbe6974e0b8', 'a48c3dc0-bdc1-454e-aad5-bfbe6974e0b8', '8e1ee910-353f-4859-bffa-392492c6a0b8', '8e1ee910-353f-4859-bffa-392492c6a0b8', '8e1ee910-353f-4859-bffa-392492c6a0b8', '8e1ee910-353f-4859-bffa-392492c6a0b8', '8e1ee910-353f-4859-bffa-392492c6a0b8', '3f9a385d-8bc8-4a7d-b3c7-bc0286810822', '3f9a385d-8bc8-4a7d-b3c7-bc0286810822', '6144fd5a-78c5-4b8a-9967-ba50c0367d03', '6144fd5a-78c5-4b8a-9967-ba50c0367d03', '6144fd5a-78c5-4b8a-9967-ba50c0367d03', '6144fd5a-78c5-4b8a-9967-ba50c0367d03', '6144fd5a-78c5-4b8a-9967-ba50c0367d03', '6144fd5a-78c5-4b8a-9967-ba50c0367d03']\n",
      "['2024-02-26T11:06:21.562Z', '2024-02-26T12:10:30.829Z', '2024-02-26T12:10:55.688Z', '2024-02-26T12:10:56.827Z', '2024-02-26T12:12:41.265Z', '2024-02-26T12:12:43.925Z', '2024-02-26T12:12:49.207Z', '2024-02-26T12:12:51.135Z', '2024-02-26T12:13:39.792Z', '2024-02-26T13:41:46.248Z', '2024-02-26T13:41:48.040Z', '2024-02-26T13:42:28.430Z', '2024-02-26T13:42:28.789Z', '2024-02-26T13:42:29.003Z', '2024-02-26T13:42:29.225Z', '2024-02-26T13:44:11.690Z', '2024-02-26T13:44:12.191Z']\n"
     ]
    },
    {
     "data": {
      "text/plain": [
       "datetime.datetime(2024, 2, 26, 11, 6, 21, 562000)"
      ]
     },
     "execution_count": 25,
     "metadata": {},
     "output_type": "execute_result"
    }
   ],
   "source": [
    "userIds = [a[0] for a in cur.execute(\"SELECT * FROM clicks\")]\n",
    "timestamps = [a[1] for a in cur.execute(\"SELECT * FROM clicks\")]\n",
    "print(userIds)\n",
    "print(timestamps)\n",
    "datetime.strptime(timestamps[0], \"%Y-%m-%dT%H:%M:%S.%fZ\")"
   ]
  },
  {
   "cell_type": "code",
   "execution_count": 17,
   "metadata": {},
   "outputs": [],
   "source": [
    "con.close()"
   ]
  }
 ],
 "metadata": {
  "kernelspec": {
   "display_name": ".venv",
   "language": "python",
   "name": "python3"
  },
  "language_info": {
   "codemirror_mode": {
    "name": "ipython",
    "version": 3
   },
   "file_extension": ".py",
   "mimetype": "text/x-python",
   "name": "python",
   "nbconvert_exporter": "python",
   "pygments_lexer": "ipython3",
   "version": "3.11.2"
  }
 },
 "nbformat": 4,
 "nbformat_minor": 2
}
